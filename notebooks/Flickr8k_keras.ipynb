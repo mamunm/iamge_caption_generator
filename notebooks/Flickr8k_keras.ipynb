{
  "nbformat": 4,
  "nbformat_minor": 0,
  "metadata": {
    "colab": {
      "name": "Flickr8k_keras.ipynb",
      "private_outputs": true,
      "provenance": [],
      "collapsed_sections": [],
      "mount_file_id": "1IEuEQoobp3Zgame4xjn2nVEPSG7Yn614",
      "authorship_tag": "ABX9TyO8Cf51WIdknKoDFTVX93w/",
      "include_colab_link": true
    },
    "kernelspec": {
      "name": "python3",
      "display_name": "Python 3"
    },
    "language_info": {
      "name": "python"
    },
    "accelerator": "GPU"
  },
  "cells": [
    {
      "cell_type": "markdown",
      "metadata": {
        "id": "view-in-github",
        "colab_type": "text"
      },
      "source": [
        "<a href=\"https://colab.research.google.com/github/mamunm/iamge_caption_generator/blob/main/notebooks/Flickr8k_keras.ipynb\" target=\"_parent\"><img src=\"https://colab.research.google.com/assets/colab-badge.svg\" alt=\"Open In Colab\"/></a>"
      ]
    },
    {
      "cell_type": "markdown",
      "metadata": {
        "id": "XJQMKimYAT89"
      },
      "source": [
        "Guided notebook for image captioning which is inspired by the machine learning mastery blog."
      ]
    },
    {
      "cell_type": "code",
      "metadata": {
        "id": "sLUnOn5hBIfE"
      },
      "source": [
        "!pip install wandb -qqq"
      ],
      "execution_count": null,
      "outputs": []
    },
    {
      "cell_type": "code",
      "metadata": {
        "id": "N3nbsk9yC9Pp"
      },
      "source": [
        "from google.colab import drive\n",
        "drive.mount('/content/drive')"
      ],
      "execution_count": null,
      "outputs": []
    },
    {
      "cell_type": "code",
      "metadata": {
        "id": "EwqzcnQ4AzUa"
      },
      "source": [
        "# import python modules\n",
        "import os\n",
        "import pickle\n",
        "from keras.applications.vgg16 import VGG16\n",
        "from keras.preprocessing.image import load_img\n",
        "from keras.preprocessing.image import img_to_array\n",
        "from keras.applications.vgg16 import preprocess_input\n",
        "from keras.models import Model\n",
        "\n",
        "import numpy as np\n",
        "#import wandb"
      ],
      "execution_count": null,
      "outputs": []
    },
    {
      "cell_type": "code",
      "metadata": {
        "id": "ZvcrVzUIBHjY"
      },
      "source": [
        "# extract image features from a collection of images in a directory\n",
        "def extract_features(dir):\n",
        "    model = VGG16()\n",
        "    model = Model(inputs=model.inputs, outputs=model.layers[-2].output)\n",
        "    features = dict()\n",
        "    for name in os.listdir(directory):\n",
        "        filename = directory + '/' + name\n",
        "        image = load_img(filename, target_size=(224, 224))\n",
        "        image = img_to_array(image)\n",
        "        image = image.reshape((1, *image.shape))\n",
        "        image = preprocess_input(image)\n",
        "        feature = model.predict(image, verbose=0)\n",
        "        image_id = name.split('.')[0]\n",
        "        features[image_id] = feature\n",
        "    return features"
      ],
      "execution_count": null,
      "outputs": []
    },
    {
      "cell_type": "code",
      "metadata": {
        "id": "9hlWFm5eCnN-"
      },
      "source": [
        "# extract features from all images\n",
        "data_path = 'drive/MyDrive/image_captioning_data/Flickr8K'\n",
        "if not os.path.exists(os.path.join(data_path, 'features.pkl')):  \n",
        "    directory = os.path.join(data_path, 'Flicker8k_Dataset')\n",
        "    features = extract_features(directory)\n",
        "    print(f'Extracted Features: {len(features)}')\n",
        "    pickle.dump(features, open(os.path.join(data_path, \n",
        "                                            'features.pkl'), 'wb'))\n",
        "else:\n",
        "    features = pickle.load(open(os.path.join(data_path, \n",
        "                                             'features.pkl'), 'rb'))\n"
      ],
      "execution_count": null,
      "outputs": []
    },
    {
      "cell_type": "code",
      "metadata": {
        "id": "DtHiDr9vrNiP"
      },
      "source": [
        ""
      ],
      "execution_count": null,
      "outputs": []
    }
  ]
}