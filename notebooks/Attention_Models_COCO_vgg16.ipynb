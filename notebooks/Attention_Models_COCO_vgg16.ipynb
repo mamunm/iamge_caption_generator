{
  "nbformat": 4,
  "nbformat_minor": 0,
  "metadata": {
    "colab": {
      "name": "Attention_Models_COCO_vgg16.ipynb",
      "provenance": [],
      "collapsed_sections": [],
      "mount_file_id": "1n0RP2EE8Oq1SZ2ejpy0ODVj6X3iSNP-m",
      "authorship_tag": "ABX9TyNVOhxKKN24T2JNKoWPrk6G",
      "include_colab_link": true
    },
    "kernelspec": {
      "name": "python3",
      "display_name": "Python 3"
    },
    "language_info": {
      "name": "python"
    },
    "accelerator": "GPU"
  },
  "cells": [
    {
      "cell_type": "markdown",
      "metadata": {
        "id": "view-in-github",
        "colab_type": "text"
      },
      "source": [
        "<a href=\"https://colab.research.google.com/github/mamunm/iamge_caption_generator/blob/main/notebooks/Attention_Models_COCO_vgg16.ipynb\" target=\"_parent\"><img src=\"https://colab.research.google.com/assets/colab-badge.svg\" alt=\"Open In Colab\"/></a>"
      ]
    },
    {
      "cell_type": "code",
      "metadata": {
        "colab": {
          "base_uri": "https://localhost:8080/"
        },
        "id": "T9fxjCpMWIxN",
        "outputId": "8770e476-633a-4d43-8330-563ba8105988"
      },
      "source": [
        "!pip install pickle5"
      ],
      "execution_count": null,
      "outputs": [
        {
          "output_type": "stream",
          "text": [
            "Collecting pickle5\n",
            "\u001b[?25l  Downloading https://files.pythonhosted.org/packages/f7/4c/5c4dd0462c8d3a6bc4af500a6af240763c2ebd1efdc736fc2c946d44b70a/pickle5-0.0.11.tar.gz (132kB)\n",
            "\r\u001b[K     |██▌                             | 10kB 17.3MB/s eta 0:00:01\r\u001b[K     |█████                           | 20kB 6.0MB/s eta 0:00:01\r\u001b[K     |███████▍                        | 30kB 4.1MB/s eta 0:00:01\r\u001b[K     |██████████                      | 40kB 3.8MB/s eta 0:00:01\r\u001b[K     |████████████▍                   | 51kB 2.1MB/s eta 0:00:01\r\u001b[K     |██████████████▉                 | 61kB 2.3MB/s eta 0:00:01\r\u001b[K     |█████████████████▍              | 71kB 2.5MB/s eta 0:00:01\r\u001b[K     |███████████████████▉            | 81kB 2.6MB/s eta 0:00:01\r\u001b[K     |██████████████████████▎         | 92kB 2.8MB/s eta 0:00:01\r\u001b[K     |████████████████████████▉       | 102kB 2.9MB/s eta 0:00:01\r\u001b[K     |███████████████████████████▎    | 112kB 2.9MB/s eta 0:00:01\r\u001b[K     |█████████████████████████████▊  | 122kB 2.9MB/s eta 0:00:01\r\u001b[K     |████████████████████████████████| 133kB 2.9MB/s \n",
            "\u001b[?25hBuilding wheels for collected packages: pickle5\n",
            "  Building wheel for pickle5 (setup.py) ... \u001b[?25l\u001b[?25hdone\n",
            "  Created wheel for pickle5: filename=pickle5-0.0.11-cp37-cp37m-linux_x86_64.whl size=219254 sha256=ee7455d8133f4f0cfff1c32e67026c87bc59bb611227a908ee51aa159a5206c6\n",
            "  Stored in directory: /root/.cache/pip/wheels/a6/90/95/f889ca4aa8b0e0c7f21c8470b6f5d6032f0390a3a141a9a3bd\n",
            "Successfully built pickle5\n",
            "Installing collected packages: pickle5\n",
            "Successfully installed pickle5-0.0.11\n"
          ],
          "name": "stdout"
        }
      ]
    },
    {
      "cell_type": "code",
      "metadata": {
        "id": "ReI9hlLgBi9B",
        "colab": {
          "base_uri": "https://localhost:8080/"
        },
        "outputId": "d8a3ce00-d29b-4297-86a2-c14f081be349"
      },
      "source": [
        "!pip install nltk"
      ],
      "execution_count": null,
      "outputs": [
        {
          "output_type": "stream",
          "text": [
            "Requirement already satisfied: nltk in /usr/local/lib/python3.7/dist-packages (3.2.5)\n",
            "Requirement already satisfied: six in /usr/local/lib/python3.7/dist-packages (from nltk) (1.15.0)\n"
          ],
          "name": "stdout"
        }
      ]
    },
    {
      "cell_type": "code",
      "metadata": {
        "id": "JuOBotfwGPYp"
      },
      "source": [
        "import tensorflow as tf\n",
        "import seaborn as sns\n",
        "import matplotlib.pyplot as plt\n",
        "\n",
        "from glob import glob\n",
        "import numpy as np \n",
        "import pandas as pd\n",
        "\n",
        "from PIL import Image\n",
        "import pickle5 as pickle\n",
        "import time\n",
        "\n",
        "from nltk.translate.bleu_score import corpus_bleu\n",
        "import re"
      ],
      "execution_count": null,
      "outputs": []
    },
    {
      "cell_type": "code",
      "metadata": {
        "id": "B_7gwns-HBxg"
      },
      "source": [
        "# Model settings\n",
        "NAME = 'COCO' # Flicker30k\n",
        "IMAGE_MODEL = 'vgg16'\n",
        "BATCH_SIZE = 64\n",
        "BUFFER_SIZE = 1000\n",
        "embedding_dim = 256\n",
        "units = 512\n",
        "top_k = 10000\n",
        "vocab_size = top_k + 1\n",
        "num_steps = 400 if NAME == 'COCO' else 160 \n",
        "features_shape = 512 if IMAGE_MODEL == 'vgg16' else 2048 #2048 for inception_v3\n",
        "attention_features_shape = 81 if IMAGE_MODEL == 'vgg16' else 64 #64 for inception_v3\n",
        "max_length = 45 if NAME == 'COCO' else 75"
      ],
      "execution_count": null,
      "outputs": []
    },
    {
      "cell_type": "code",
      "metadata": {
        "id": "1VA2Cin4HEh2"
      },
      "source": [
        "# Load the numpy files\n",
        "def load_data(batch, data='COCO', im_model='vgg16'):\n",
        "    if data == 'COCO':\n",
        "        root = '/content/drive/MyDrive/image_captioning_data/COCO/train_vectors/'\n",
        "    else:\n",
        "        root = '/content/drive/MyDrive/image_captioning_data/Flicker30k/train_vectors/'\n",
        "    query = root + '*_{}_*_X_y_{:04d}_*'.format(im_model, batch)\n",
        "    f_path = glob(query)\n",
        "    data = np.load(f_path[0], allow_pickle=True)[()]\n",
        "    return data['X'].numpy(), data['y']"
      ],
      "execution_count": null,
      "outputs": []
    },
    {
      "cell_type": "code",
      "metadata": {
        "id": "a3ojhUK3HfhW"
      },
      "source": [
        "class BahdanauAttention(tf.keras.Model):\n",
        "  def __init__(self, units):\n",
        "      super(BahdanauAttention, self).__init__()\n",
        "      self.W1 = tf.keras.layers.Dense(units)\n",
        "      self.W2 = tf.keras.layers.Dense(units)\n",
        "      self.V = tf.keras.layers.Dense(1)\n",
        "\n",
        "  def call(self, features, hidden):\n",
        "      hidden_with_time_axis = tf.expand_dims(hidden, 1)\n",
        "      attention_hidden_layer = (tf.nn.tanh(self.W1(features) +\n",
        "                                         self.W2(hidden_with_time_axis)))\n",
        "      score = self.V(attention_hidden_layer)\n",
        "      attention_weights = tf.nn.softmax(score, axis=1)\n",
        "      context_vector = attention_weights * features\n",
        "      context_vector = tf.reduce_sum(context_vector, axis=1)\n",
        "      return context_vector, attention_weights"
      ],
      "execution_count": null,
      "outputs": []
    },
    {
      "cell_type": "code",
      "metadata": {
        "id": "hzOdsJPUHtKV"
      },
      "source": [
        "class CNN_Encoder(tf.keras.Model):\n",
        "    def __init__(self, embedding_dim):\n",
        "        super(CNN_Encoder, self).__init__()\n",
        "        self.fc = tf.keras.layers.Dense(embedding_dim)\n",
        "    def call(self, x):\n",
        "        x = self.fc(x)\n",
        "        x = tf.nn.relu(x)\n",
        "        return x"
      ],
      "execution_count": null,
      "outputs": []
    },
    {
      "cell_type": "code",
      "metadata": {
        "id": "AxBD7O9HHwNJ"
      },
      "source": [
        "class RNN_Decoder(tf.keras.Model):\n",
        "    def __init__(self, embedding_dim, units, vocab_size):\n",
        "        super(RNN_Decoder, self).__init__()\n",
        "        self.units = units\n",
        "        self.embedding = tf.keras.layers.Embedding(vocab_size, embedding_dim)\n",
        "        self.gru = tf.keras.layers.GRU(self.units,\n",
        "                                   return_sequences=True,\n",
        "                                   return_state=True,\n",
        "                                   recurrent_initializer='glorot_uniform')\n",
        "        self.fc1 = tf.keras.layers.Dense(self.units)\n",
        "        self.fc2 = tf.keras.layers.Dense(vocab_size)\n",
        "        self.attention = BahdanauAttention(self.units)\n",
        "\n",
        "    def call(self, x, features, hidden):\n",
        "        context_vector, attention_weights = self.attention(features, hidden)\n",
        "        x = self.embedding(x)\n",
        "        x = tf.concat([tf.expand_dims(context_vector, 1), x], axis=-1)\n",
        "        output, state = self.gru(x)\n",
        "        x = self.fc1(output)\n",
        "        x = tf.reshape(x, (-1, x.shape[2]))\n",
        "        x = self.fc2(x)\n",
        "        return x, state, attention_weights\n",
        "    def reset_state(self, batch_size):\n",
        "        return tf.zeros((batch_size, self.units))"
      ],
      "execution_count": null,
      "outputs": []
    },
    {
      "cell_type": "code",
      "metadata": {
        "id": "ZxsLqxjNHzOg"
      },
      "source": [
        "encoder = CNN_Encoder(embedding_dim)\n",
        "decoder = RNN_Decoder(embedding_dim, units, vocab_size)"
      ],
      "execution_count": null,
      "outputs": []
    },
    {
      "cell_type": "code",
      "metadata": {
        "id": "tzaKrTX0H1_r"
      },
      "source": [
        "optimizer = tf.keras.optimizers.Adam()\n",
        "loss_object = tf.keras.losses.SparseCategoricalCrossentropy(\n",
        "    from_logits=True, reduction='none')\n",
        "\n",
        "def loss_function(real, pred):\n",
        "    mask = tf.math.logical_not(tf.math.equal(real, 0))\n",
        "    loss_ = loss_object(real, pred)\n",
        "    mask = tf.cast(mask, dtype=loss_.dtype)\n",
        "    loss_ *= mask\n",
        "    return tf.reduce_mean(loss_)"
      ],
      "execution_count": null,
      "outputs": []
    },
    {
      "cell_type": "code",
      "metadata": {
        "id": "TudYcb17H4wm"
      },
      "source": [
        "checkpoint_path = f\"/content/drive/MyDrive/image_captioning_data/{NAME}/Checkpoints/{NAME + '_' + IMAGE_MODEL}\"\n",
        "ckpt = tf.train.Checkpoint(encoder=encoder,\n",
        "                           decoder=decoder,\n",
        "                           optimizer=optimizer)\n",
        "ckpt_manager = tf.train.CheckpointManager(ckpt, checkpoint_path, max_to_keep=30)"
      ],
      "execution_count": null,
      "outputs": []
    },
    {
      "cell_type": "code",
      "metadata": {
        "id": "BdkXtIpHH_XI"
      },
      "source": [
        "start_epoch = 0\n",
        "if ckpt_manager.latest_checkpoint:\n",
        "    start_epoch = int(ckpt_manager.latest_checkpoint.split('-')[-1])\n",
        "    ckpt.restore(ckpt_manager.latest_checkpoint)"
      ],
      "execution_count": null,
      "outputs": []
    },
    {
      "cell_type": "code",
      "metadata": {
        "id": "DMpwr-0gIENX"
      },
      "source": [
        "with open(f'/content/drive/MyDrive/image_captioning_data/{NAME}/tokenizer.pickle', 'rb') as handle:\n",
        "    tokenizer = pickle.load(handle)"
      ],
      "execution_count": null,
      "outputs": []
    },
    {
      "cell_type": "code",
      "metadata": {
        "id": "9SE9l64FIJnx"
      },
      "source": [
        "@tf.function\n",
        "def train_step(img_tensor, target):\n",
        "    loss = 0\n",
        "    hidden = decoder.reset_state(batch_size=target.shape[0])\n",
        "    dec_input = tf.expand_dims([tokenizer.word_index['<start>']] * target.shape[0], 1)\n",
        "    \n",
        "    with tf.GradientTape() as tape:\n",
        "        features = encoder(img_tensor)\n",
        "        for i in range(1, target.shape[1]):\n",
        "            predictions, hidden, _ = decoder(dec_input, features, hidden)\n",
        "            loss += loss_function(target[:, i], predictions)\n",
        "            dec_input = tf.expand_dims(target[:, i], 1)\n",
        "\n",
        "    total_loss = (loss / int(target.shape[1]))\n",
        "    trainable_variables = encoder.trainable_variables + decoder.trainable_variables\n",
        "    gradients = tape.gradient(loss, trainable_variables)\n",
        "    optimizer.apply_gradients(zip(gradients, trainable_variables))\n",
        "    return loss, total_loss"
      ],
      "execution_count": null,
      "outputs": []
    },
    {
      "cell_type": "code",
      "metadata": {
        "id": "snbDzpXbIKsG",
        "colab": {
          "base_uri": "https://localhost:8080/"
        },
        "outputId": "1be0ee8d-660b-4e37-8707-be96affd2d10"
      },
      "source": [
        "loss_plot = []\n",
        "EPOCHS = 20\n",
        "for epoch in range(start_epoch, EPOCHS):\n",
        "    start = time.time()\n",
        "    total_loss = 0\n",
        "    for batch in range(1, num_steps+1):\n",
        "        img_tensor, target = load_data(batch, data=NAME, im_model=IMAGE_MODEL)\n",
        "        batch_loss, t_loss = train_step(img_tensor, target)\n",
        "        total_loss += t_loss\n",
        "\n",
        "        if batch % 100 == 0:\n",
        "            average_batch_loss = batch_loss.numpy()/int(target.shape[1])\n",
        "            print(f'Epoch {epoch+1} Batch {batch} Loss {average_batch_loss:.4f}')\n",
        "    # storing the epoch end loss value to plot later\n",
        "    loss_plot.append(total_loss / num_steps)\n",
        "\n",
        "    if epoch % 5 == 0:\n",
        "      ckpt_manager.save()\n",
        "\n",
        "    print(f'Epoch {epoch+1} Loss {total_loss/num_steps:.6f}')\n",
        "    print(f'Time taken for 1 epoch {time.time()-start:.2f} sec\\n')"
      ],
      "execution_count": null,
      "outputs": [
        {
          "output_type": "stream",
          "text": [
            "WARNING:tensorflow:5 out of the last 5 calls to <function train_step at 0x7fcf50305830> triggered tf.function retracing. Tracing is expensive and the excessive number of tracings could be due to (1) creating @tf.function repeatedly in a loop, (2) passing tensors with different shapes, (3) passing Python objects instead of tensors. For (1), please define your @tf.function outside of the loop. For (2), @tf.function has experimental_relax_shapes=True option that relaxes argument shapes that can avoid unnecessary retracing. For (3), please refer to https://www.tensorflow.org/guide/function#controlling_retracing and https://www.tensorflow.org/api_docs/python/tf/function for  more details.\n",
            "WARNING:tensorflow:6 out of the last 6 calls to <function train_step at 0x7fcf50305830> triggered tf.function retracing. Tracing is expensive and the excessive number of tracings could be due to (1) creating @tf.function repeatedly in a loop, (2) passing tensors with different shapes, (3) passing Python objects instead of tensors. For (1), please define your @tf.function outside of the loop. For (2), @tf.function has experimental_relax_shapes=True option that relaxes argument shapes that can avoid unnecessary retracing. For (3), please refer to https://www.tensorflow.org/guide/function#controlling_retracing and https://www.tensorflow.org/api_docs/python/tf/function for  more details.\n",
            "WARNING:tensorflow:7 out of the last 7 calls to <function train_step at 0x7fcf50305830> triggered tf.function retracing. Tracing is expensive and the excessive number of tracings could be due to (1) creating @tf.function repeatedly in a loop, (2) passing tensors with different shapes, (3) passing Python objects instead of tensors. For (1), please define your @tf.function outside of the loop. For (2), @tf.function has experimental_relax_shapes=True option that relaxes argument shapes that can avoid unnecessary retracing. For (3), please refer to https://www.tensorflow.org/guide/function#controlling_retracing and https://www.tensorflow.org/api_docs/python/tf/function for  more details.\n",
            "WARNING:tensorflow:8 out of the last 8 calls to <function train_step at 0x7fcf50305830> triggered tf.function retracing. Tracing is expensive and the excessive number of tracings could be due to (1) creating @tf.function repeatedly in a loop, (2) passing tensors with different shapes, (3) passing Python objects instead of tensors. For (1), please define your @tf.function outside of the loop. For (2), @tf.function has experimental_relax_shapes=True option that relaxes argument shapes that can avoid unnecessary retracing. For (3), please refer to https://www.tensorflow.org/guide/function#controlling_retracing and https://www.tensorflow.org/api_docs/python/tf/function for  more details.\n",
            "WARNING:tensorflow:9 out of the last 9 calls to <function train_step at 0x7fcf50305830> triggered tf.function retracing. Tracing is expensive and the excessive number of tracings could be due to (1) creating @tf.function repeatedly in a loop, (2) passing tensors with different shapes, (3) passing Python objects instead of tensors. For (1), please define your @tf.function outside of the loop. For (2), @tf.function has experimental_relax_shapes=True option that relaxes argument shapes that can avoid unnecessary retracing. For (3), please refer to https://www.tensorflow.org/guide/function#controlling_retracing and https://www.tensorflow.org/api_docs/python/tf/function for  more details.\n",
            "WARNING:tensorflow:10 out of the last 11 calls to <function train_step at 0x7fcf50305830> triggered tf.function retracing. Tracing is expensive and the excessive number of tracings could be due to (1) creating @tf.function repeatedly in a loop, (2) passing tensors with different shapes, (3) passing Python objects instead of tensors. For (1), please define your @tf.function outside of the loop. For (2), @tf.function has experimental_relax_shapes=True option that relaxes argument shapes that can avoid unnecessary retracing. For (3), please refer to https://www.tensorflow.org/guide/function#controlling_retracing and https://www.tensorflow.org/api_docs/python/tf/function for  more details.\n",
            "WARNING:tensorflow:10 out of the last 11 calls to <function train_step at 0x7fcf50305830> triggered tf.function retracing. Tracing is expensive and the excessive number of tracings could be due to (1) creating @tf.function repeatedly in a loop, (2) passing tensors with different shapes, (3) passing Python objects instead of tensors. For (1), please define your @tf.function outside of the loop. For (2), @tf.function has experimental_relax_shapes=True option that relaxes argument shapes that can avoid unnecessary retracing. For (3), please refer to https://www.tensorflow.org/guide/function#controlling_retracing and https://www.tensorflow.org/api_docs/python/tf/function for  more details.\n",
            "Epoch 1 Batch 100 Loss 2.3155\n",
            "Epoch 1 Batch 200 Loss 2.4375\n",
            "Epoch 1 Batch 300 Loss 1.7889\n",
            "Epoch 1 Batch 400 Loss 2.6727\n",
            "Epoch 1 Loss 2.621004\n",
            "Time taken for 1 epoch 1305.10 sec\n",
            "\n",
            "Epoch 2 Batch 100 Loss 1.7260\n",
            "Epoch 2 Batch 200 Loss 1.9870\n",
            "Epoch 2 Batch 300 Loss 1.5123\n",
            "Epoch 2 Batch 400 Loss 2.2667\n",
            "Epoch 2 Loss 2.070215\n",
            "Time taken for 1 epoch 80.12 sec\n",
            "\n",
            "Epoch 3 Batch 100 Loss 1.5558\n",
            "Epoch 3 Batch 200 Loss 1.8007\n",
            "Epoch 3 Batch 300 Loss 1.3687\n",
            "Epoch 3 Batch 400 Loss 2.0588\n",
            "Epoch 3 Loss 1.852341\n",
            "Time taken for 1 epoch 80.18 sec\n",
            "\n",
            "Epoch 4 Batch 100 Loss 1.4492\n",
            "Epoch 4 Batch 200 Loss 1.6770\n",
            "Epoch 4 Batch 300 Loss 1.2705\n",
            "Epoch 4 Batch 400 Loss 1.9050\n",
            "Epoch 4 Loss 1.707067\n",
            "Time taken for 1 epoch 80.20 sec\n",
            "\n",
            "Epoch 5 Batch 100 Loss 1.3495\n",
            "Epoch 5 Batch 200 Loss 1.5733\n",
            "Epoch 5 Batch 300 Loss 1.1949\n",
            "Epoch 5 Batch 400 Loss 1.8026\n",
            "Epoch 5 Loss 1.595059\n",
            "Time taken for 1 epoch 80.00 sec\n",
            "\n",
            "Epoch 6 Batch 100 Loss 1.2726\n",
            "Epoch 6 Batch 200 Loss 1.4698\n",
            "Epoch 6 Batch 300 Loss 1.1467\n",
            "Epoch 6 Batch 400 Loss 1.7096\n",
            "Epoch 6 Loss 1.503431\n",
            "Time taken for 1 epoch 80.88 sec\n",
            "\n",
            "Epoch 7 Batch 100 Loss 1.2102\n",
            "Epoch 7 Batch 200 Loss 1.3920\n",
            "Epoch 7 Batch 300 Loss 1.0907\n",
            "Epoch 7 Batch 400 Loss 1.6138\n",
            "Epoch 7 Loss 1.426100\n",
            "Time taken for 1 epoch 80.02 sec\n",
            "\n",
            "Epoch 8 Batch 100 Loss 1.1635\n",
            "Epoch 8 Batch 200 Loss 1.3237\n",
            "Epoch 8 Batch 300 Loss 1.0455\n",
            "Epoch 8 Batch 400 Loss 1.5261\n",
            "Epoch 8 Loss 1.353564\n",
            "Time taken for 1 epoch 80.00 sec\n",
            "\n",
            "Epoch 9 Batch 100 Loss 1.0988\n",
            "Epoch 9 Batch 200 Loss 1.2803\n",
            "Epoch 9 Batch 300 Loss 1.0113\n",
            "Epoch 9 Batch 400 Loss 1.4651\n",
            "Epoch 9 Loss 1.286352\n",
            "Time taken for 1 epoch 79.99 sec\n",
            "\n",
            "Epoch 10 Batch 100 Loss 1.0535\n",
            "Epoch 10 Batch 200 Loss 1.2138\n",
            "Epoch 10 Batch 300 Loss 0.9511\n",
            "Epoch 10 Batch 400 Loss 1.3755\n",
            "Epoch 10 Loss 1.222678\n",
            "Time taken for 1 epoch 80.00 sec\n",
            "\n",
            "Epoch 11 Batch 100 Loss 0.9920\n",
            "Epoch 11 Batch 200 Loss 1.1636\n",
            "Epoch 11 Batch 300 Loss 0.9025\n",
            "Epoch 11 Batch 400 Loss 1.3185\n",
            "Epoch 11 Loss 1.164674\n",
            "Time taken for 1 epoch 80.53 sec\n",
            "\n",
            "Epoch 12 Batch 100 Loss 0.9694\n",
            "Epoch 12 Batch 200 Loss 1.1261\n",
            "Epoch 12 Batch 300 Loss 0.8953\n",
            "Epoch 12 Batch 400 Loss 1.2751\n",
            "Epoch 12 Loss 1.112882\n",
            "Time taken for 1 epoch 79.67 sec\n",
            "\n",
            "Epoch 13 Batch 100 Loss 0.9003\n",
            "Epoch 13 Batch 200 Loss 1.0586\n",
            "Epoch 13 Batch 300 Loss 0.8272\n",
            "Epoch 13 Batch 400 Loss 1.2250\n",
            "Epoch 13 Loss 1.058302\n",
            "Time taken for 1 epoch 80.00 sec\n",
            "\n",
            "Epoch 14 Batch 100 Loss 0.8716\n",
            "Epoch 14 Batch 200 Loss 1.0533\n",
            "Epoch 14 Batch 300 Loss 0.7966\n",
            "Epoch 14 Batch 400 Loss 1.1434\n",
            "Epoch 14 Loss 1.012976\n",
            "Time taken for 1 epoch 80.00 sec\n",
            "\n",
            "Epoch 15 Batch 100 Loss 0.8345\n",
            "Epoch 15 Batch 200 Loss 0.9927\n",
            "Epoch 15 Batch 300 Loss 0.7715\n",
            "Epoch 15 Batch 400 Loss 1.0809\n",
            "Epoch 15 Loss 0.971671\n",
            "Time taken for 1 epoch 79.90 sec\n",
            "\n",
            "Epoch 16 Batch 100 Loss 0.7906\n",
            "Epoch 16 Batch 200 Loss 0.9434\n",
            "Epoch 16 Batch 300 Loss 0.7435\n",
            "Epoch 16 Batch 400 Loss 1.0474\n",
            "Epoch 16 Loss 0.932378\n",
            "Time taken for 1 epoch 80.67 sec\n",
            "\n",
            "Epoch 17 Batch 100 Loss 0.7669\n",
            "Epoch 17 Batch 200 Loss 0.9065\n",
            "Epoch 17 Batch 300 Loss 0.6781\n",
            "Epoch 17 Batch 400 Loss 1.0068\n",
            "Epoch 17 Loss 0.901839\n",
            "Time taken for 1 epoch 79.73 sec\n",
            "\n",
            "Epoch 18 Batch 100 Loss 0.7606\n",
            "Epoch 18 Batch 200 Loss 0.8597\n",
            "Epoch 18 Batch 300 Loss 0.6556\n",
            "Epoch 18 Batch 400 Loss 0.9542\n",
            "Epoch 18 Loss 0.865646\n",
            "Time taken for 1 epoch 79.91 sec\n",
            "\n",
            "Epoch 19 Batch 100 Loss 0.7517\n",
            "Epoch 19 Batch 200 Loss 0.8511\n",
            "Epoch 19 Batch 300 Loss 0.6423\n",
            "Epoch 19 Batch 400 Loss 0.9125\n",
            "Epoch 19 Loss 0.838539\n",
            "Time taken for 1 epoch 80.00 sec\n",
            "\n",
            "Epoch 20 Batch 100 Loss 0.7260\n",
            "Epoch 20 Batch 200 Loss 0.7744\n",
            "Epoch 20 Batch 300 Loss 0.6018\n",
            "Epoch 20 Batch 400 Loss 0.8841\n",
            "Epoch 20 Loss 0.809499\n",
            "Time taken for 1 epoch 80.00 sec\n",
            "\n"
          ],
          "name": "stdout"
        }
      ]
    },
    {
      "cell_type": "code",
      "metadata": {
        "id": "iqWTx3YJgCRL"
      },
      "source": [
        "df_loss = pd.DataFrame({'loss': [i.numpy() for i in loss_plot], 'epoch': np.arange(1, 21)})"
      ],
      "execution_count": null,
      "outputs": []
    },
    {
      "cell_type": "code",
      "metadata": {
        "colab": {
          "base_uri": "https://localhost:8080/",
          "height": 284
        },
        "id": "2apIkiMXWRLT",
        "outputId": "5db5586f-d2cc-4de8-8253-abbb417ab113"
      },
      "source": [
        "sns.lineplot(data=df_loss, x='epoch', y='loss', color='#009473', linewidth=4)\n",
        "plt.xlabel('epoch', fontsize=16)\n",
        "plt.ylabel('training loss', fontsize=16)\n",
        "plt.savefig(f'/content/drive/MyDrive/image_captioning_data/{NAME}/{NAME}_{IMAGE_MODEL}.png')"
      ],
      "execution_count": null,
      "outputs": [
        {
          "output_type": "display_data",
          "data": {
            "image/png": "[encoded data removed]",
            "text/plain": [
              "<Figure size 432x288 with 1 Axes>"
            ]
          },
          "metadata": {
            "tags": [],
            "needs_background": "light"
          }
        }
      ]
    },
    {
      "cell_type": "code",
      "metadata": {
        "id": "hy9kho9Dg2x-"
      },
      "source": [
        "def evaluate(img_tensor_val):\n",
        "    attention_plot = np.zeros((max_length, attention_features_shape))\n",
        "\n",
        "    hidden = decoder.reset_state(batch_size=1)\n",
        "\n",
        "    features = encoder(img_tensor_val)\n",
        "\n",
        "    dec_input = tf.expand_dims([tokenizer.word_index['<start>']], 0)\n",
        "    result = []\n",
        "\n",
        "    for i in range(max_length):\n",
        "        predictions, hidden, attention_weights = decoder(dec_input,\n",
        "                                                         features,\n",
        "                                                         hidden)\n",
        "\n",
        "        attention_plot[i] = tf.reshape(attention_weights, (-1, )).numpy()\n",
        "\n",
        "        predicted_id = tf.random.categorical(predictions, 1)[0][0].numpy()\n",
        "        result.append(tokenizer.index_word[predicted_id])\n",
        "\n",
        "        if tokenizer.index_word[predicted_id] == '<end>':\n",
        "            return result, attention_plot\n",
        "\n",
        "        dec_input = tf.expand_dims([predicted_id], 0)\n",
        "\n",
        "    attention_plot = attention_plot[:len(result), :]\n",
        "    return result, attention_plot"
      ],
      "execution_count": null,
      "outputs": []
    },
    {
      "cell_type": "code",
      "metadata": {
        "id": "-lQj3AF9h6pu"
      },
      "source": [
        "def plot_attention(image, result, attention_plot):\n",
        "    temp_image = np.array(Image.open(image))\n",
        "\n",
        "    fig = plt.figure(figsize=(10, 10))\n",
        "\n",
        "    len_result = len(result)\n",
        "    for i in range(len_result):\n",
        "        temp_att = np.resize(attention_plot[i], (8, 8))\n",
        "        grid_size = max(np.ceil(len_result/2), 2)\n",
        "        ax = fig.add_subplot(grid_size, grid_size, i+1)\n",
        "        ax.set_title(result[i])\n",
        "        img = ax.imshow(temp_image)\n",
        "        ax.imshow(temp_att, cmap='gray', alpha=0.6, extent=img.get_extent())\n",
        "\n",
        "    plt.tight_layout()\n",
        "    plt.show()"
      ],
      "execution_count": null,
      "outputs": []
    },
    {
      "cell_type": "code",
      "metadata": {
        "id": "cJ4qRnbV60ES"
      },
      "source": [
        ""
      ],
      "execution_count": null,
      "outputs": []
    },
    {
      "cell_type": "code",
      "metadata": {
        "colab": {
          "base_uri": "https://localhost:8080/",
          "height": 1000
        },
        "id": "PH7lav28h92J",
        "outputId": "fa4bb9a2-9ee5-4b18-c5fc-4f20c4f0a3ae"
      },
      "source": [
        "# captions on the validation set\n",
        "#fpath = f'/content/drive/MyDrive/image_captioning_data/{NAME}/val_vectors/'\n",
        "#query = fpath + '*_{}_*'.format(IMAGE_MODEL)\n",
        "#fpath = glob(query)\n",
        "\n",
        "#data = np.load(np.random.choice(fpath), allow_pickle=True)[()]\n",
        "#rid = np.random.choice(90)\n",
        "#X, y = data['X'].numpy()[rid], data['y'][rid]\n",
        "reid = re.compile(r'\\d{12}')\n",
        "a = glob(f'/content/drive/MyDrive/image_captioning_data/{NAME}/val_vectors/val_{IMAGE_MODEL}*')\n",
        "for aa in a:\n",
        "    data = np.load(aa, allow_pickle=True)[()]\n",
        "    X, y = data['X'].numpy()[0], data['y'][0]\n",
        "    if NAME == 'COCO':\n",
        "        iid = reid.findall(aa)[0]\n",
        "        image_id = f'/content/drive/MyDrive/image_captioning_data/COCO/val_images/COCO_train2014_{iid}.jpg'\n",
        "    else:\n",
        "        iid = reid.findall(aa)[0].lstrip('0')\n",
        "        image_id = f'/content/drive/MyDrive/image_captioning_data/Flicker30k/val_images/{iid}.jpg'\n",
        "\n",
        "    real_caption = ' '.join([tokenizer.index_word[i]\n",
        "                        for i in y if i not in [0]])\n",
        "    result, attention_plot = evaluate(X)\n",
        "    print(image_id)\n",
        "    print('Real Caption:', real_caption)\n",
        "    print('Prediction Caption:', ' '.join(result))\n",
        "    plot_attention(image_id, result, attention_plot)"
      ],
      "execution_count": null,
      "outputs": []
    },
    {
      "cell_type": "code",
      "metadata": {
        "id": "Bk2olO1YkeDP"
      },
      "source": [
        "val_data_files = glob(f'/content/drive/MyDrive/image_captioning_data/{NAME}/val_vectors/val_{IMAGE_MODEL}*')\n",
        "\n",
        "real = []\n",
        "prediction = []\n",
        "for v in val_data_files:\n",
        "    data = np.load(v, allow_pickle=True)[()]\n",
        "    for x, y in zip(data['X'].numpy(), data['y']):\n",
        "        real.append(' '.join([tokenizer.index_word[i]\n",
        "                        for i in y if i not in [0]]))\n",
        "        result, _ = evaluate(x)\n",
        "        prediction.append(' '.join(result))\n"
      ],
      "execution_count": null,
      "outputs": []
    },
    {
      "cell_type": "code",
      "metadata": {
        "id": "spqk-DDe8Zq2"
      },
      "source": [
        "def sub_tok(x):\n",
        "    x = re.sub('<start>', '', x)\n",
        "    x = re.sub('<end>', '', x)\n",
        "    return x"
      ],
      "execution_count": null,
      "outputs": []
    },
    {
      "cell_type": "code",
      "metadata": {
        "id": "S-vgbWyJ8jW4"
      },
      "source": [
        "real = [sub_tok(i) for i in real]\n",
        "prediction = [sub_tok(i) for i in real]\n"
      ],
      "execution_count": null,
      "outputs": []
    },
    {
      "cell_type": "code",
      "metadata": {
        "id": "SwGDP40L9jS5"
      },
      "source": [
        "np.save(f'/content/drive/MyDrive/image_captioning_data/{NAME}/{NAME}_{IMAGE_MODEL}_pred.npy', \n",
        "        {'real': real, 'pred': prediction})"
      ],
      "execution_count": null,
      "outputs": []
    },
    {
      "cell_type": "code",
      "metadata": {
        "id": "CgZdh-SI-k4G"
      },
      "source": [
        ""
      ],
      "execution_count": null,
      "outputs": []
    }
  ]
}