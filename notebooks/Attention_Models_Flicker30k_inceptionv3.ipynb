{
  "nbformat": 4,
  "nbformat_minor": 0,
  "metadata": {
    "colab": {
      "name": "Attention_Models_Flicker30k_inceptionv3.ipynb",
      "provenance": [],
      "collapsed_sections": [],
      "mount_file_id": "14TsNrQyrKxtVnWZ7g1hEJj3vo0Dc1wuZ",
      "authorship_tag": "ABX9TyOWK76WRWby6cBGSD56inq5",
      "include_colab_link": true
    },
    "kernelspec": {
      "name": "python3",
      "display_name": "Python 3"
    },
    "language_info": {
      "name": "python"
    },
    "accelerator": "GPU"
  },
  "cells": [
    {
      "cell_type": "markdown",
      "metadata": {
        "id": "view-in-github",
        "colab_type": "text"
      },
      "source": [
        "<a href=\"https://colab.research.google.com/github/mamunm/iamge_caption_generator/blob/main/notebooks/Attention_Models_Flicker30k_inceptionv3.ipynb\" target=\"_parent\"><img src=\"https://colab.research.google.com/assets/colab-badge.svg\" alt=\"Open In Colab\"/></a>"
      ]
    },
    {
      "cell_type": "code",
      "metadata": {
        "colab": {
          "base_uri": "https://localhost:8080/"
        },
        "id": "T9fxjCpMWIxN",
        "outputId": "3a784448-5f39-4033-f8da-38a3923aff11"
      },
      "source": [
        "!pip install pickle5"
      ],
      "execution_count": null,
      "outputs": [
        {
          "output_type": "stream",
          "text": [
            "Collecting pickle5\n",
            "\u001b[?25l  Downloading https://files.pythonhosted.org/packages/f7/4c/5c4dd0462c8d3a6bc4af500a6af240763c2ebd1efdc736fc2c946d44b70a/pickle5-0.0.11.tar.gz (132kB)\n",
            "\r\u001b[K     |██▌                             | 10kB 16.8MB/s eta 0:00:01\r\u001b[K     |█████                           | 20kB 11.9MB/s eta 0:00:01\r\u001b[K     |███████▍                        | 30kB 9.2MB/s eta 0:00:01\r\u001b[K     |██████████                      | 40kB 5.4MB/s eta 0:00:01\r\u001b[K     |████████████▍                   | 51kB 6.6MB/s eta 0:00:01\r\u001b[K     |██████████████▉                 | 61kB 7.2MB/s eta 0:00:01\r\u001b[K     |█████████████████▍              | 71kB 7.7MB/s eta 0:00:01\r\u001b[K     |███████████████████▉            | 81kB 7.8MB/s eta 0:00:01\r\u001b[K     |██████████████████████▎         | 92kB 8.6MB/s eta 0:00:01\r\u001b[K     |████████████████████████▉       | 102kB 8.6MB/s eta 0:00:01\r\u001b[K     |███████████████████████████▎    | 112kB 8.6MB/s eta 0:00:01\r\u001b[K     |█████████████████████████████▊  | 122kB 8.6MB/s eta 0:00:01\r\u001b[K     |████████████████████████████████| 133kB 8.6MB/s \n",
            "\u001b[?25hBuilding wheels for collected packages: pickle5\n",
            "  Building wheel for pickle5 (setup.py) ... \u001b[?25l\u001b[?25hdone\n",
            "  Created wheel for pickle5: filename=pickle5-0.0.11-cp37-cp37m-linux_x86_64.whl size=219264 sha256=403677d7f2d97a790463a9a7cfb4c72990f36483321ec455ce72693aaa8f42b2\n",
            "  Stored in directory: /root/.cache/pip/wheels/a6/90/95/f889ca4aa8b0e0c7f21c8470b6f5d6032f0390a3a141a9a3bd\n",
            "Successfully built pickle5\n",
            "Installing collected packages: pickle5\n",
            "Successfully installed pickle5-0.0.11\n"
          ],
          "name": "stdout"
        }
      ]
    },
    {
      "cell_type": "code",
      "metadata": {
        "id": "ReI9hlLgBi9B",
        "colab": {
          "base_uri": "https://localhost:8080/"
        },
        "outputId": "ec43fcdd-cc07-4a9a-df4a-13953d54068a"
      },
      "source": [
        "!pip install nltk"
      ],
      "execution_count": null,
      "outputs": [
        {
          "output_type": "stream",
          "text": [
            "Requirement already satisfied: nltk in /usr/local/lib/python3.7/dist-packages (3.2.5)\n",
            "Requirement already satisfied: six in /usr/local/lib/python3.7/dist-packages (from nltk) (1.15.0)\n"
          ],
          "name": "stdout"
        }
      ]
    },
    {
      "cell_type": "code",
      "metadata": {
        "id": "JuOBotfwGPYp"
      },
      "source": [
        "import tensorflow as tf\n",
        "import seaborn as sns\n",
        "import matplotlib.pyplot as plt\n",
        "\n",
        "from glob import glob\n",
        "import numpy as np \n",
        "import pandas as pd\n",
        "\n",
        "from PIL import Image\n",
        "import pickle5 as pickle\n",
        "import time\n",
        "\n",
        "from nltk.translate.bleu_score import corpus_bleu\n",
        "import re"
      ],
      "execution_count": null,
      "outputs": []
    },
    {
      "cell_type": "code",
      "metadata": {
        "id": "B_7gwns-HBxg"
      },
      "source": [
        "# Model settings\n",
        "NAME = 'Flicker30k' # Flicker30k\n",
        "IMAGE_MODEL = 'inception_v3'\n",
        "BATCH_SIZE = 64\n",
        "BUFFER_SIZE = 1000\n",
        "embedding_dim = 256\n",
        "units = 512\n",
        "top_k = 10000\n",
        "vocab_size = top_k + 1\n",
        "num_steps = 400 if NAME == 'COCO' else 160 \n",
        "features_shape = 512 if IMAGE_MODEL == 'vgg16' else 2048 #2048 for inception_v3\n",
        "attention_features_shape = 81 if IMAGE_MODEL == 'vgg16' else 64 #64 for inception_v3\n",
        "max_length = 45 if NAME == 'COCO' else 75"
      ],
      "execution_count": null,
      "outputs": []
    },
    {
      "cell_type": "code",
      "metadata": {
        "id": "1VA2Cin4HEh2"
      },
      "source": [
        "# Load the numpy files\n",
        "def load_data(batch, data='COCO', im_model='vgg16'):\n",
        "    if data == 'COCO':\n",
        "        root = '/content/drive/MyDrive/image_captioning_data/COCO/train_vectors/'\n",
        "    else:\n",
        "        root = '/content/drive/MyDrive/image_captioning_data/Flicker30k/train_vectors/'\n",
        "    query = root + '*_{}_*_X_y_{:04d}_*'.format(im_model, batch)\n",
        "    f_path = glob(query)\n",
        "    data = np.load(f_path[0], allow_pickle=True)[()]\n",
        "    return data['X'].numpy(), data['y']"
      ],
      "execution_count": null,
      "outputs": []
    },
    {
      "cell_type": "code",
      "metadata": {
        "id": "a3ojhUK3HfhW"
      },
      "source": [
        "class BahdanauAttention(tf.keras.Model):\n",
        "  def __init__(self, units):\n",
        "      super(BahdanauAttention, self).__init__()\n",
        "      self.W1 = tf.keras.layers.Dense(units)\n",
        "      self.W2 = tf.keras.layers.Dense(units)\n",
        "      self.V = tf.keras.layers.Dense(1)\n",
        "\n",
        "  def call(self, features, hidden):\n",
        "      hidden_with_time_axis = tf.expand_dims(hidden, 1)\n",
        "      attention_hidden_layer = (tf.nn.tanh(self.W1(features) +\n",
        "                                         self.W2(hidden_with_time_axis)))\n",
        "      score = self.V(attention_hidden_layer)\n",
        "      attention_weights = tf.nn.softmax(score, axis=1)\n",
        "      context_vector = attention_weights * features\n",
        "      context_vector = tf.reduce_sum(context_vector, axis=1)\n",
        "      return context_vector, attention_weights"
      ],
      "execution_count": null,
      "outputs": []
    },
    {
      "cell_type": "code",
      "metadata": {
        "id": "hzOdsJPUHtKV"
      },
      "source": [
        "class CNN_Encoder(tf.keras.Model):\n",
        "    def __init__(self, embedding_dim):\n",
        "        super(CNN_Encoder, self).__init__()\n",
        "        self.fc = tf.keras.layers.Dense(embedding_dim)\n",
        "    def call(self, x):\n",
        "        x = self.fc(x)\n",
        "        x = tf.nn.relu(x)\n",
        "        return x"
      ],
      "execution_count": null,
      "outputs": []
    },
    {
      "cell_type": "code",
      "metadata": {
        "id": "AxBD7O9HHwNJ"
      },
      "source": [
        "class RNN_Decoder(tf.keras.Model):\n",
        "    def __init__(self, embedding_dim, units, vocab_size):\n",
        "        super(RNN_Decoder, self).__init__()\n",
        "        self.units = units\n",
        "        self.embedding = tf.keras.layers.Embedding(vocab_size, embedding_dim)\n",
        "        self.gru = tf.keras.layers.GRU(self.units,\n",
        "                                   return_sequences=True,\n",
        "                                   return_state=True,\n",
        "                                   recurrent_initializer='glorot_uniform')\n",
        "        self.fc1 = tf.keras.layers.Dense(self.units)\n",
        "        self.fc2 = tf.keras.layers.Dense(vocab_size)\n",
        "        self.attention = BahdanauAttention(self.units)\n",
        "\n",
        "    def call(self, x, features, hidden):\n",
        "        context_vector, attention_weights = self.attention(features, hidden)\n",
        "        x = self.embedding(x)\n",
        "        x = tf.concat([tf.expand_dims(context_vector, 1), x], axis=-1)\n",
        "        output, state = self.gru(x)\n",
        "        x = self.fc1(output)\n",
        "        x = tf.reshape(x, (-1, x.shape[2]))\n",
        "        x = self.fc2(x)\n",
        "        return x, state, attention_weights\n",
        "    def reset_state(self, batch_size):\n",
        "        return tf.zeros((batch_size, self.units))"
      ],
      "execution_count": null,
      "outputs": []
    },
    {
      "cell_type": "code",
      "metadata": {
        "id": "ZxsLqxjNHzOg"
      },
      "source": [
        "encoder = CNN_Encoder(embedding_dim)\n",
        "decoder = RNN_Decoder(embedding_dim, units, vocab_size)"
      ],
      "execution_count": null,
      "outputs": []
    },
    {
      "cell_type": "code",
      "metadata": {
        "id": "tzaKrTX0H1_r"
      },
      "source": [
        "optimizer = tf.keras.optimizers.Adam()\n",
        "loss_object = tf.keras.losses.SparseCategoricalCrossentropy(\n",
        "    from_logits=True, reduction='none')\n",
        "\n",
        "def loss_function(real, pred):\n",
        "    mask = tf.math.logical_not(tf.math.equal(real, 0))\n",
        "    loss_ = loss_object(real, pred)\n",
        "    mask = tf.cast(mask, dtype=loss_.dtype)\n",
        "    loss_ *= mask\n",
        "    return tf.reduce_mean(loss_)"
      ],
      "execution_count": null,
      "outputs": []
    },
    {
      "cell_type": "code",
      "metadata": {
        "id": "TudYcb17H4wm"
      },
      "source": [
        "checkpoint_path = f\"/content/drive/MyDrive/image_captioning_data/{NAME}/Checkpoints/{NAME + '_' + IMAGE_MODEL}\"\n",
        "ckpt = tf.train.Checkpoint(encoder=encoder,\n",
        "                           decoder=decoder,\n",
        "                           optimizer=optimizer)\n",
        "ckpt_manager = tf.train.CheckpointManager(ckpt, checkpoint_path, max_to_keep=30)"
      ],
      "execution_count": null,
      "outputs": []
    },
    {
      "cell_type": "code",
      "metadata": {
        "id": "BdkXtIpHH_XI"
      },
      "source": [
        "start_epoch = 0\n",
        "if ckpt_manager.latest_checkpoint:\n",
        "    start_epoch = int(ckpt_manager.latest_checkpoint.split('-')[-1])\n",
        "    ckpt.restore(ckpt_manager.latest_checkpoint)"
      ],
      "execution_count": null,
      "outputs": []
    },
    {
      "cell_type": "code",
      "metadata": {
        "id": "DMpwr-0gIENX"
      },
      "source": [
        "with open(f'/content/drive/MyDrive/image_captioning_data/{NAME}/tokenizer.pickle', 'rb') as handle:\n",
        "    tokenizer = pickle.load(handle)"
      ],
      "execution_count": null,
      "outputs": []
    },
    {
      "cell_type": "code",
      "metadata": {
        "id": "9SE9l64FIJnx"
      },
      "source": [
        "@tf.function\n",
        "def train_step(img_tensor, target):\n",
        "    loss = 0\n",
        "    hidden = decoder.reset_state(batch_size=target.shape[0])\n",
        "    dec_input = tf.expand_dims([tokenizer.word_index['<start>']] * target.shape[0], 1)\n",
        "    \n",
        "    with tf.GradientTape() as tape:\n",
        "        features = encoder(img_tensor)\n",
        "        for i in range(1, target.shape[1]):\n",
        "            predictions, hidden, _ = decoder(dec_input, features, hidden)\n",
        "            loss += loss_function(target[:, i], predictions)\n",
        "            dec_input = tf.expand_dims(target[:, i], 1)\n",
        "\n",
        "    total_loss = (loss / int(target.shape[1]))\n",
        "    trainable_variables = encoder.trainable_variables + decoder.trainable_variables\n",
        "    gradients = tape.gradient(loss, trainable_variables)\n",
        "    optimizer.apply_gradients(zip(gradients, trainable_variables))\n",
        "    return loss, total_loss"
      ],
      "execution_count": null,
      "outputs": []
    },
    {
      "cell_type": "code",
      "metadata": {
        "id": "snbDzpXbIKsG",
        "colab": {
          "base_uri": "https://localhost:8080/"
        },
        "outputId": "d4333992-191b-4a40-cc5e-64332e11d61a"
      },
      "source": [
        "loss_plot = []\n",
        "EPOCHS = 20\n",
        "for epoch in range(start_epoch, EPOCHS):\n",
        "    start = time.time()\n",
        "    total_loss = 0\n",
        "    for batch in range(1, num_steps+1):\n",
        "        img_tensor, target = load_data(batch, data=NAME, im_model=IMAGE_MODEL)\n",
        "        batch_loss, t_loss = train_step(img_tensor, target)\n",
        "        total_loss += t_loss\n",
        "\n",
        "        if batch % 100 == 0:\n",
        "            average_batch_loss = batch_loss.numpy()/int(target.shape[1])\n",
        "            print(f'Epoch {epoch+1} Batch {batch} Loss {average_batch_loss:.4f}')\n",
        "    # storing the epoch end loss value to plot later\n",
        "    loss_plot.append(total_loss / num_steps)\n",
        "\n",
        "    if epoch % 5 == 0:\n",
        "      ckpt_manager.save()\n",
        "\n",
        "    print(f'Epoch {epoch+1} Loss {total_loss/num_steps:.6f}')\n",
        "    print(f'Time taken for 1 epoch {time.time()-start:.2f} sec\\n')"
      ],
      "execution_count": null,
      "outputs": [
        {
          "output_type": "stream",
          "text": [
            "WARNING:tensorflow:5 out of the last 6 calls to <function train_step at 0x7fd450165cb0> triggered tf.function retracing. Tracing is expensive and the excessive number of tracings could be due to (1) creating @tf.function repeatedly in a loop, (2) passing tensors with different shapes, (3) passing Python objects instead of tensors. For (1), please define your @tf.function outside of the loop. For (2), @tf.function has experimental_relax_shapes=True option that relaxes argument shapes that can avoid unnecessary retracing. For (3), please refer to https://www.tensorflow.org/guide/function#controlling_retracing and https://www.tensorflow.org/api_docs/python/tf/function for  more details.\n",
            "WARNING:tensorflow:6 out of the last 7 calls to <function train_step at 0x7fd450165cb0> triggered tf.function retracing. Tracing is expensive and the excessive number of tracings could be due to (1) creating @tf.function repeatedly in a loop, (2) passing tensors with different shapes, (3) passing Python objects instead of tensors. For (1), please define your @tf.function outside of the loop. For (2), @tf.function has experimental_relax_shapes=True option that relaxes argument shapes that can avoid unnecessary retracing. For (3), please refer to https://www.tensorflow.org/guide/function#controlling_retracing and https://www.tensorflow.org/api_docs/python/tf/function for  more details.\n",
            "WARNING:tensorflow:7 out of the last 8 calls to <function train_step at 0x7fd450165cb0> triggered tf.function retracing. Tracing is expensive and the excessive number of tracings could be due to (1) creating @tf.function repeatedly in a loop, (2) passing tensors with different shapes, (3) passing Python objects instead of tensors. For (1), please define your @tf.function outside of the loop. For (2), @tf.function has experimental_relax_shapes=True option that relaxes argument shapes that can avoid unnecessary retracing. For (3), please refer to https://www.tensorflow.org/guide/function#controlling_retracing and https://www.tensorflow.org/api_docs/python/tf/function for  more details.\n",
            "WARNING:tensorflow:8 out of the last 9 calls to <function train_step at 0x7fd450165cb0> triggered tf.function retracing. Tracing is expensive and the excessive number of tracings could be due to (1) creating @tf.function repeatedly in a loop, (2) passing tensors with different shapes, (3) passing Python objects instead of tensors. For (1), please define your @tf.function outside of the loop. For (2), @tf.function has experimental_relax_shapes=True option that relaxes argument shapes that can avoid unnecessary retracing. For (3), please refer to https://www.tensorflow.org/guide/function#controlling_retracing and https://www.tensorflow.org/api_docs/python/tf/function for  more details.\n",
            "WARNING:tensorflow:9 out of the last 10 calls to <function train_step at 0x7fd450165cb0> triggered tf.function retracing. Tracing is expensive and the excessive number of tracings could be due to (1) creating @tf.function repeatedly in a loop, (2) passing tensors with different shapes, (3) passing Python objects instead of tensors. For (1), please define your @tf.function outside of the loop. For (2), @tf.function has experimental_relax_shapes=True option that relaxes argument shapes that can avoid unnecessary retracing. For (3), please refer to https://www.tensorflow.org/guide/function#controlling_retracing and https://www.tensorflow.org/api_docs/python/tf/function for  more details.\n",
            "WARNING:tensorflow:10 out of the last 11 calls to <function train_step at 0x7fd450165cb0> triggered tf.function retracing. Tracing is expensive and the excessive number of tracings could be due to (1) creating @tf.function repeatedly in a loop, (2) passing tensors with different shapes, (3) passing Python objects instead of tensors. For (1), please define your @tf.function outside of the loop. For (2), @tf.function has experimental_relax_shapes=True option that relaxes argument shapes that can avoid unnecessary retracing. For (3), please refer to https://www.tensorflow.org/guide/function#controlling_retracing and https://www.tensorflow.org/api_docs/python/tf/function for  more details.\n",
            "WARNING:tensorflow:7 out of the last 11 calls to <function train_step at 0x7fd450165cb0> triggered tf.function retracing. Tracing is expensive and the excessive number of tracings could be due to (1) creating @tf.function repeatedly in a loop, (2) passing tensors with different shapes, (3) passing Python objects instead of tensors. For (1), please define your @tf.function outside of the loop. For (2), @tf.function has experimental_relax_shapes=True option that relaxes argument shapes that can avoid unnecessary retracing. For (3), please refer to https://www.tensorflow.org/guide/function#controlling_retracing and https://www.tensorflow.org/api_docs/python/tf/function for  more details.\n",
            "WARNING:tensorflow:7 out of the last 11 calls to <function train_step at 0x7fd450165cb0> triggered tf.function retracing. Tracing is expensive and the excessive number of tracings could be due to (1) creating @tf.function repeatedly in a loop, (2) passing tensors with different shapes, (3) passing Python objects instead of tensors. For (1), please define your @tf.function outside of the loop. For (2), @tf.function has experimental_relax_shapes=True option that relaxes argument shapes that can avoid unnecessary retracing. For (3), please refer to https://www.tensorflow.org/guide/function#controlling_retracing and https://www.tensorflow.org/api_docs/python/tf/function for  more details.\n",
            "WARNING:tensorflow:5 out of the last 14 calls to <function train_step at 0x7fd450165cb0> triggered tf.function retracing. Tracing is expensive and the excessive number of tracings could be due to (1) creating @tf.function repeatedly in a loop, (2) passing tensors with different shapes, (3) passing Python objects instead of tensors. For (1), please define your @tf.function outside of the loop. For (2), @tf.function has experimental_relax_shapes=True option that relaxes argument shapes that can avoid unnecessary retracing. For (3), please refer to https://www.tensorflow.org/guide/function#controlling_retracing and https://www.tensorflow.org/api_docs/python/tf/function for  more details.\n",
            "WARNING:tensorflow:6 out of the last 18 calls to <function train_step at 0x7fd450165cb0> triggered tf.function retracing. Tracing is expensive and the excessive number of tracings could be due to (1) creating @tf.function repeatedly in a loop, (2) passing tensors with different shapes, (3) passing Python objects instead of tensors. For (1), please define your @tf.function outside of the loop. For (2), @tf.function has experimental_relax_shapes=True option that relaxes argument shapes that can avoid unnecessary retracing. For (3), please refer to https://www.tensorflow.org/guide/function#controlling_retracing and https://www.tensorflow.org/api_docs/python/tf/function for  more details.\n",
            "WARNING:tensorflow:5 out of the last 18 calls to <function train_step at 0x7fd450165cb0> triggered tf.function retracing. Tracing is expensive and the excessive number of tracings could be due to (1) creating @tf.function repeatedly in a loop, (2) passing tensors with different shapes, (3) passing Python objects instead of tensors. For (1), please define your @tf.function outside of the loop. For (2), @tf.function has experimental_relax_shapes=True option that relaxes argument shapes that can avoid unnecessary retracing. For (3), please refer to https://www.tensorflow.org/guide/function#controlling_retracing and https://www.tensorflow.org/api_docs/python/tf/function for  more details.\n",
            "WARNING:tensorflow:5 out of the last 14 calls to <function train_step at 0x7fd450165cb0> triggered tf.function retracing. Tracing is expensive and the excessive number of tracings could be due to (1) creating @tf.function repeatedly in a loop, (2) passing tensors with different shapes, (3) passing Python objects instead of tensors. For (1), please define your @tf.function outside of the loop. For (2), @tf.function has experimental_relax_shapes=True option that relaxes argument shapes that can avoid unnecessary retracing. For (3), please refer to https://www.tensorflow.org/guide/function#controlling_retracing and https://www.tensorflow.org/api_docs/python/tf/function for  more details.\n",
            "WARNING:tensorflow:6 out of the last 16 calls to <function train_step at 0x7fd450165cb0> triggered tf.function retracing. Tracing is expensive and the excessive number of tracings could be due to (1) creating @tf.function repeatedly in a loop, (2) passing tensors with different shapes, (3) passing Python objects instead of tensors. For (1), please define your @tf.function outside of the loop. For (2), @tf.function has experimental_relax_shapes=True option that relaxes argument shapes that can avoid unnecessary retracing. For (3), please refer to https://www.tensorflow.org/guide/function#controlling_retracing and https://www.tensorflow.org/api_docs/python/tf/function for  more details.\n",
            "Epoch 1 Batch 100 Loss 2.7803\n",
            "Epoch 1 Loss 2.426958\n",
            "Time taken for 1 epoch 1024.46 sec\n",
            "\n",
            "Epoch 2 Batch 100 Loss 2.3766\n",
            "Epoch 2 Loss 2.003562\n",
            "Time taken for 1 epoch 88.62 sec\n",
            "\n",
            "Epoch 3 Batch 100 Loss 2.1755\n",
            "Epoch 3 Loss 1.822711\n",
            "Time taken for 1 epoch 87.21 sec\n",
            "\n",
            "Epoch 4 Batch 100 Loss 2.0359\n",
            "Epoch 4 Loss 1.711744\n",
            "Time taken for 1 epoch 87.69 sec\n",
            "\n",
            "Epoch 5 Batch 100 Loss 1.9577\n",
            "Epoch 5 Loss 1.623250\n",
            "Time taken for 1 epoch 87.69 sec\n",
            "\n",
            "Epoch 6 Batch 100 Loss 1.8700\n",
            "Epoch 6 Loss 1.553102\n",
            "Time taken for 1 epoch 88.64 sec\n",
            "\n",
            "Epoch 7 Batch 100 Loss 1.7914\n",
            "Epoch 7 Loss 1.486082\n",
            "Time taken for 1 epoch 89.76 sec\n",
            "\n",
            "Epoch 8 Batch 100 Loss 1.7526\n",
            "Epoch 8 Loss 1.427735\n",
            "Time taken for 1 epoch 87.22 sec\n",
            "\n",
            "Epoch 9 Batch 100 Loss 1.7004\n",
            "Epoch 9 Loss 1.372173\n",
            "Time taken for 1 epoch 87.89 sec\n",
            "\n",
            "Epoch 10 Batch 100 Loss 1.5773\n",
            "Epoch 10 Loss 1.323345\n",
            "Time taken for 1 epoch 87.82 sec\n",
            "\n",
            "Epoch 11 Batch 100 Loss 1.5158\n",
            "Epoch 11 Loss 1.272740\n",
            "Time taken for 1 epoch 88.83 sec\n",
            "\n",
            "Epoch 12 Batch 100 Loss 1.4778\n",
            "Epoch 12 Loss 1.226101\n",
            "Time taken for 1 epoch 88.56 sec\n",
            "\n",
            "Epoch 13 Batch 100 Loss 1.4088\n",
            "Epoch 13 Loss 1.183168\n",
            "Time taken for 1 epoch 87.61 sec\n",
            "\n",
            "Epoch 14 Batch 100 Loss 1.4083\n",
            "Epoch 14 Loss 1.136584\n",
            "Time taken for 1 epoch 87.57 sec\n",
            "\n",
            "Epoch 15 Batch 100 Loss 1.3146\n",
            "Epoch 15 Loss 1.090685\n",
            "Time taken for 1 epoch 87.72 sec\n",
            "\n",
            "Epoch 16 Batch 100 Loss 1.3037\n",
            "Epoch 16 Loss 1.043832\n",
            "Time taken for 1 epoch 88.11 sec\n",
            "\n",
            "Epoch 17 Batch 100 Loss 1.2452\n",
            "Epoch 17 Loss 1.007854\n",
            "Time taken for 1 epoch 89.19 sec\n",
            "\n",
            "Epoch 18 Batch 100 Loss 1.1710\n",
            "Epoch 18 Loss 0.972786\n",
            "Time taken for 1 epoch 87.10 sec\n",
            "\n",
            "Epoch 19 Batch 100 Loss 1.1233\n",
            "Epoch 19 Loss 0.936392\n",
            "Time taken for 1 epoch 87.70 sec\n",
            "\n",
            "Epoch 20 Batch 100 Loss 1.0555\n",
            "Epoch 20 Loss 0.892217\n",
            "Time taken for 1 epoch 87.80 sec\n",
            "\n"
          ],
          "name": "stdout"
        }
      ]
    },
    {
      "cell_type": "code",
      "metadata": {
        "id": "iqWTx3YJgCRL"
      },
      "source": [
        "df_loss = pd.DataFrame({'loss': [i.numpy() for i in loss_plot], 'epoch': np.arange(1, 21)})"
      ],
      "execution_count": null,
      "outputs": []
    },
    {
      "cell_type": "code",
      "metadata": {
        "colab": {
          "base_uri": "https://localhost:8080/",
          "height": 284
        },
        "id": "2apIkiMXWRLT",
        "outputId": "137e4da3-87ac-45ac-94b7-6d267db95145"
      },
      "source": [
        "sns.lineplot(data=df_loss, x='epoch', y='loss', color='#009473', linewidth=4)\n",
        "plt.xlabel('epoch', fontsize=16)\n",
        "plt.ylabel('training loss', fontsize=16)\n",
        "plt.savefig(f'/content/drive/MyDrive/image_captioning_data/{NAME}/{NAME}_{IMAGE_MODEL}.png')"
      ],
      "execution_count": null,
      "outputs": [
        {
          "output_type": "display_data",
          "data": {
            "image/png": "[encoded data removed]",
            "text/plain": [
              "<Figure size 432x288 with 1 Axes>"
            ]
          },
          "metadata": {
            "tags": [],
            "needs_background": "light"
          }
        }
      ]
    },
    {
      "cell_type": "code",
      "metadata": {
        "id": "hy9kho9Dg2x-"
      },
      "source": [
        "def evaluate(img_tensor_val):\n",
        "    attention_plot = np.zeros((max_length, attention_features_shape))\n",
        "\n",
        "    hidden = decoder.reset_state(batch_size=1)\n",
        "\n",
        "    features = encoder(img_tensor_val)\n",
        "\n",
        "    dec_input = tf.expand_dims([tokenizer.word_index['<start>']], 0)\n",
        "    result = []\n",
        "\n",
        "    for i in range(max_length):\n",
        "        predictions, hidden, attention_weights = decoder(dec_input,\n",
        "                                                         features,\n",
        "                                                         hidden)\n",
        "\n",
        "        attention_plot[i] = tf.reshape(attention_weights, (-1, )).numpy()\n",
        "\n",
        "        predicted_id = tf.random.categorical(predictions, 1)[0][0].numpy()\n",
        "        result.append(tokenizer.index_word[predicted_id])\n",
        "\n",
        "        if tokenizer.index_word[predicted_id] == '<end>':\n",
        "            return result, attention_plot\n",
        "\n",
        "        dec_input = tf.expand_dims([predicted_id], 0)\n",
        "\n",
        "    attention_plot = attention_plot[:len(result), :]\n",
        "    return result, attention_plot"
      ],
      "execution_count": null,
      "outputs": []
    },
    {
      "cell_type": "code",
      "metadata": {
        "id": "-lQj3AF9h6pu"
      },
      "source": [
        "def plot_attention(image, result, attention_plot):\n",
        "    temp_image = np.array(Image.open(image))\n",
        "\n",
        "    fig = plt.figure(figsize=(10, 10))\n",
        "\n",
        "    len_result = len(result)\n",
        "    for i in range(len_result):\n",
        "        temp_att = np.resize(attention_plot[i], (8, 8))\n",
        "        grid_size = max(np.ceil(len_result/2), 2)\n",
        "        ax = fig.add_subplot(grid_size, grid_size, i+1)\n",
        "        ax.set_title(result[i])\n",
        "        img = ax.imshow(temp_image)\n",
        "        ax.imshow(temp_att, cmap='gray', alpha=0.6, extent=img.get_extent())\n",
        "\n",
        "    plt.tight_layout()\n",
        "    plt.show()"
      ],
      "execution_count": null,
      "outputs": []
    },
    {
      "cell_type": "code",
      "metadata": {
        "colab": {
          "base_uri": "https://localhost:8080/",
          "height": 1000
        },
        "id": "PH7lav28h92J",
        "outputId": "4cb01b56-00db-434b-a03b-106aaf6b8d42"
      },
      "source": [
        "# captions on the validation set\n",
        "#fpath = f'/content/drive/MyDrive/image_captioning_data/{NAME}/val_vectors/'\n",
        "#query = fpath + '*_{}_*'.format(IMAGE_MODEL)\n",
        "#fpath = glob(query)\n",
        "\n",
        "#data = np.load(np.random.choice(fpath), allow_pickle=True)[()]\n",
        "#rid = np.random.choice(90)\n",
        "#X, y = data['X'].numpy()[rid], data['y'][rid]\n",
        "reid = re.compile(r'\\d{12}')\n",
        "a = glob(f'/content/drive/MyDrive/image_captioning_data/{NAME}/val_vectors/val_{IMAGE_MODEL}*')\n",
        "for aa in a:\n",
        "    data = np.load(aa, allow_pickle=True)[()]\n",
        "    X, y = data['X'].numpy()[0], data['y'][0]\n",
        "    if NAME == 'COCO':\n",
        "        iid = reid.findall(aa)[0]\n",
        "        image_id = f'/content/drive/MyDrive/image_captioning_data/COCO/val_images/COCO_train2014_{iid}.jpg'\n",
        "    else:\n",
        "        iid = reid.findall(aa)[0].lstrip('0')\n",
        "        image_id = f'/content/drive/MyDrive/image_captioning_data/Flicker30k/val_images/{iid}.jpg'\n",
        "\n",
        "    real_caption = ' '.join([tokenizer.index_word[i]\n",
        "                        for i in y if i not in [0]])\n",
        "    result, attention_plot = evaluate(X)\n",
        "    print(image_id)\n",
        "    print('Real Caption:', real_caption)\n",
        "    print('Prediction Caption:', ' '.join(result))\n",
        "    plot_attention(image_id, result, attention_plot)"
      ],
      "execution_count": null,
      "outputs": []
    },
    {
      "cell_type": "code",
      "metadata": {
        "id": "Bk2olO1YkeDP"
      },
      "source": [
        "val_data_files = glob(f'/content/drive/MyDrive/image_captioning_data/{NAME}/val_vectors/val_{IMAGE_MODEL}*')\n",
        "\n",
        "real = []\n",
        "prediction = []\n",
        "for v in val_data_files:\n",
        "    data = np.load(v, allow_pickle=True)[()]\n",
        "    for x, y in zip(data['X'].numpy(), data['y']):\n",
        "        real.append(' '.join([tokenizer.index_word[i]\n",
        "                        for i in y if i not in [0]]))\n",
        "        result, _ = evaluate(x)\n",
        "        prediction.append(' '.join(result))\n"
      ],
      "execution_count": null,
      "outputs": []
    },
    {
      "cell_type": "code",
      "metadata": {
        "id": "spqk-DDe8Zq2"
      },
      "source": [
        "def sub_tok(x):\n",
        "    x = re.sub('<start>', '', x)\n",
        "    x = re.sub('<end>', '', x)\n",
        "    return x"
      ],
      "execution_count": null,
      "outputs": []
    },
    {
      "cell_type": "code",
      "metadata": {
        "id": "S-vgbWyJ8jW4"
      },
      "source": [
        "real = [sub_tok(i) for i in real]\n",
        "prediction = [sub_tok(i) for i in real]\n"
      ],
      "execution_count": null,
      "outputs": []
    },
    {
      "cell_type": "code",
      "metadata": {
        "id": "rCJeo7dDoH9M"
      },
      "source": [
        "#real = [i.split() for i in real]\n",
        "#prediction = [i.split() for i in prediction]"
      ],
      "execution_count": null,
      "outputs": []
    },
    {
      "cell_type": "code",
      "metadata": {
        "id": "SwGDP40L9jS5"
      },
      "source": [
        "np.save(f'/content/drive/MyDrive/image_captioning_data/{NAME}/{NAME}_{IMAGE_MODEL}_pred.npy', \n",
        "        {'real': real, 'pred': prediction})"
      ],
      "execution_count": null,
      "outputs": []
    },
    {
      "cell_type": "code",
      "metadata": {
        "id": "CgZdh-SI-k4G"
      },
      "source": [
        ""
      ],
      "execution_count": null,
      "outputs": []
    }
  ]
}