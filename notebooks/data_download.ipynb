{
 "metadata": {
  "language_info": {
   "codemirror_mode": {
    "name": "ipython",
    "version": 3
   },
   "file_extension": ".py",
   "mimetype": "text/x-python",
   "name": "python",
   "nbconvert_exporter": "python",
   "pygments_lexer": "ipython3",
   "version": "3.8.3"
  },
  "orig_nbformat": 2,
  "kernelspec": {
   "name": "python383jvsc74a57bd0a3b17ec5c917aac5cd265fd6214cd9600f46c379dc3c3ef662a0a5f1a65c1ca0",
   "display_name": "Python 3.8.3 64-bit ('image_caption_generator': virtualenvwrapper)"
  }
 },
 "nbformat": 4,
 "nbformat_minor": 2,
 "cells": [
  {
   "cell_type": "code",
   "execution_count": 3,
   "metadata": {},
   "outputs": [],
   "source": [
    "import os \n",
    "import tensorflow as tf\n",
    "import importlib\n",
    "from PIL import Image\n",
    "import pandas as pd \n",
    "import json\n",
    "from tqdm import tqdm "
   ]
  },
  {
   "cell_type": "code",
   "execution_count": 4,
   "metadata": {},
   "outputs": [],
   "source": [
    "def download_data(name, url_dict):\n",
    "    root = '/Users/mamu867/PNNL_Mac/Springboard/image_caption_generator/data/raw/' + name \n",
    "    #file_loc = {}\n",
    "    for dname, url in url_dict.items():\n",
    "        if not os.path.exists(os.path.join(root, f'{dname}.zip')):\n",
    "            zip = tf.keras.utils.get_file(f'{dname}.zip', \n",
    "                                          cache_subdir=root, \n",
    "                                          origin = url, \n",
    "                                          extract = True)\n",
    "            os.remove(zip)\n",
    "            #self.file_loc[dname] = os.path.join(root + f'{dname}.json')\n",
    "        else:\n",
    "            #self.file_loc[dname] = os.path.join(root + f'{dname}.json')\n",
    "            print(f'{dname} already exists!')\n",
    "    return "
   ]
  },
  {
   "cell_type": "code",
   "execution_count": 5,
   "metadata": {},
   "outputs": [
    {
     "output_type": "stream",
     "name": "stdout",
     "text": [
      "Downloading data from http://images.cocodataset.org/annotations/annotations_trainval2014.zip\n",
      "252878848/252872794 [==============================] - 96s 0us/step\n",
      "Downloading data from http://images.cocodataset.org/zips/train2014.zip\n",
      "13510574080/13510573713 [==============================] - 5821s 0us/step\n"
     ]
    }
   ],
   "source": [
    "coco_url_dict = {'captions_train_val': 'http://images.cocodataset.org/annotations/annotations_trainval2014.zip',\n",
    "                 'train': 'http://images.cocodataset.org/zips/train2014.zip',\n",
    "                 #'val': 'http://images.cocodataset.org/zips/val2014.zip',\n",
    "                 #'test': 'http://images.cocodataset.org/zips/test2014.zip'\n",
    "                }\n",
    "\n",
    "#coco = ImageDataset(name='COCO')\n",
    "#coco.download_data(coco_url_dict)\n",
    "download_data('COCO', coco_url_dict)"
   ]
  },
  {
   "cell_type": "code",
   "execution_count": null,
   "metadata": {},
   "outputs": [],
   "source": [
    "!kaggle datasets download -d hsankesara/flickr-image-dataset"
   ]
  }
 ]
}